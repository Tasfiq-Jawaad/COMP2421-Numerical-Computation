{
 "cells": [
  {
   "cell_type": "code",
   "execution_count": null,
   "id": "45fefd85",
   "metadata": {
    "slideshow": {
     "slide_type": "skip"
    },
    "tags": [
     "remove-input"
    ]
   },
   "outputs": [],
   "source": [
    "import feedback\n",
    "from matplotlib import pyplot as plt\n",
    "\n",
    "plt.rcParams[\"figure.figsize\"] = [5, 3.1]"
   ]
  },
  {
   "cell_type": "markdown",
   "id": "4651d970",
   "metadata": {
    "slideshow": {
     "slide_type": "slide"
    }
   },
   "source": [
    "# Lecture 20: Overview, review and looking forward"
   ]
  },
  {
   "cell_type": "code",
   "execution_count": null,
   "id": "72e83917",
   "metadata": {
    "tags": [
     "remove-input"
    ]
   },
   "outputs": [],
   "source": [
    "feedback.feedback()"
   ]
  },
  {
   "cell_type": "markdown",
   "id": "09b39a2a",
   "metadata": {
    "slideshow": {
     "slide_type": "slide"
    }
   },
   "source": [
    "# Coursework questions\n",
    "\n",
    "Please ask your questions using the Vevox Q&A. <https://vevox.app/#/m/167832545>"
   ]
  },
  {
   "cell_type": "code",
   "execution_count": null,
   "id": "4f6559ee",
   "metadata": {
    "tags": [
     "remove-input"
    ]
   },
   "outputs": [],
   "source": [
    "import qrcode\n",
    "from matplotlib import pyplot as plt\n",
    "\n",
    "feedback_url = \"https://vevox.app/#/m/167832545\"\n",
    "qr = qrcode.make(feedback_url)\n",
    "\n",
    "plt.title(feedback_url)\n",
    "plt.imshow(qr, cmap=\"Greys_r\")\n",
    "plt.axis(\"off\")\n",
    "plt.tight_layout()\n",
    "plt.show()"
   ]
  },
  {
   "cell_type": "markdown",
   "id": "ed73ae6b",
   "metadata": {
    "slideshow": {
     "slide_type": "slide"
    }
   },
   "source": [
    "## Review\n",
    "\n",
    "###   Floating point numbers\n",
    "\n",
    "$$(\\beta, t, L, U)$$\n",
    "\n",
    "-   Representations and rounding\n",
    "-   $eps$, machine precision"
   ]
  },
  {
   "cell_type": "markdown",
   "id": "f093f449",
   "metadata": {
    "slideshow": {
     "slide_type": "subslide"
    }
   },
   "source": [
    "###   Matrices and vectors\n",
    "\n",
    "$$\n",
    "A = \\begin{pmatrix} 4 & 5 \\\\ 3 & -1 \\end{pmatrix}\n",
    "$$\n",
    "\n",
    "-   Multiplication\n",
    "-   Inner product\n",
    "-   Euclidean norms"
   ]
  },
  {
   "cell_type": "markdown",
   "id": "b7690d53",
   "metadata": {
    "slideshow": {
     "slide_type": "subslide"
    }
   },
   "source": [
    "###   Systems of linear equations\n",
    "\n",
    "$$\n",
    "A \\vec{x} = \\vec{b}\n",
    "$$\n",
    "\n",
    "-   Translating between matrices and systems of linear equations\n",
    "-   Deriving simple linear systems of equations\n",
    "-   Solving triangular systems of equations\n",
    "-   Gaussian Elimination\n",
    "-   LU factorisation\n",
    "-   Jacobi iteration\n",
    "-   Gauss Seidel iteration\n",
    "-   Initial guesses, convergence and stopping criteria"
   ]
  },
  {
   "cell_type": "markdown",
   "id": "0e6d5653",
   "metadata": {
    "slideshow": {
     "slide_type": "subslide"
    }
   },
   "source": [
    "###   Dynamic problems\n",
    "\n",
    "$$\n",
    "y'(t) = f(t, y) \\quad \\text{subject to} \\quad y(t_0) = y_0\n",
    "$$\n",
    "\n",
    "-   Derivatives, gradients/slopes and rates of change\n",
    "-   Reading and drawing simple graphs\n",
    "-   Deriving models for simple dynamic problems\n",
    "-   Initial conditions\n",
    "-   Euler's method\n",
    "-   Midpoint scheme"
   ]
  },
  {
   "cell_type": "markdown",
   "id": "8876d4bc",
   "metadata": {
    "slideshow": {
     "slide_type": "subslide"
    }
   },
   "source": [
    "### Nonlinear equations\n",
    "\n",
    "$$\n",
    "f(x) = 0\n",
    "$$\n",
    "\n",
    "-   Roots of an equation\n",
    "-   Bisection algorithm\n",
    "-   Newton's method\n",
    "-   Quasi Newton methods\n",
    "-   Hybrid methods"
   ]
  },
  {
   "cell_type": "markdown",
   "id": "78759b4a",
   "metadata": {
    "slideshow": {
     "slide_type": "subslide"
    }
   },
   "source": [
    "###   Data fitting\n",
    "\n",
    "-   How to form a system of linear equations to find a simple curve of best fit\n",
    "-   How to find a best fit solution\n",
    "-   When to choose which curve (from a simple choice)\n",
    "-   Problems with our approach"
   ]
  },
  {
   "cell_type": "markdown",
   "id": "ef3ae18c",
   "metadata": {
    "slideshow": {
     "slide_type": "slide"
    }
   },
   "source": [
    "## What next....?\n",
    "\n",
    "-   You will apply ideas from this course in many areas of computer science including\n",
    "\n",
    "    -   graphics;\n",
    "    -   artificial intelligence/machine learning;\n",
    "    -   networking and parallel computation\n",
    "\n",
    "-   There are plenty of opportunities for Final Year Projects on topic related to thsoe in this module\n",
    "\n",
    "    -   ask me, Yongxing Wang, Timon Gutleb for more ideas and information"
   ]
  },
  {
   "cell_type": "markdown",
   "id": "7ec0498e",
   "metadata": {
    "slideshow": {
     "slide_type": "slide"
    }
   },
   "source": [
    "**Thank you for your attention!**\n",
    "\n",
    "Good luck with the final coursework and future studies\n",
    "\n",
    "I hope you have a good Christmas break!"
   ]
  }
 ],
 "metadata": {
  "kernelspec": {
   "display_name": "comp2421-book",
   "language": "python",
   "name": "python3"
  },
  "language_info": {
   "codemirror_mode": {
    "name": "ipython",
    "version": 3
   },
   "file_extension": ".py",
   "mimetype": "text/x-python",
   "name": "python",
   "nbconvert_exporter": "python",
   "pygments_lexer": "ipython3",
   "version": "3.12.6"
  }
 },
 "nbformat": 4,
 "nbformat_minor": 5
}
