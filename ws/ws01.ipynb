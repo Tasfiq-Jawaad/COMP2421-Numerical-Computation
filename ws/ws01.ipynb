{
 "cells": [
  {
   "cell_type": "markdown",
   "id": "2a20c98b",
   "metadata": {},
   "source": [
    "# WS01: Introduction to Python and Jupyter\n",
    "\n",
    "This workbook is for you to get to grips with how the rest of the worksheets in this class will work and gain familiarity with Python and jupyter. You should read the text and follow the instructions of how to run each cell.\n",
    "\n",
    "If you are familiar with the content you may go quickly through this tutorial."
   ]
  },
  {
   "cell_type": "markdown",
   "id": "180bfb0f",
   "metadata": {},
   "source": [
    "## What is Python?\n",
    "\n",
    "[![](https://www.python.org/static/community_logos/python-logo.png)](https://www.python.org/)\n",
    "\n",
    "Python is an easy to learn, powerful programming language. It has efficient high-level data structures and a simple but effective approach to object-oriented programming. Python’s elegant syntax and dynamic typing, together with its interpreted nature, make it an ideal language for scripting and rapid application development in many areas on most platforms.\n",
    "\n",
    "The Python interpreter and the extensive standard library are freely available in source or binary form for all major platforms from the Python web site, https://www.python.org/, and may be freely distributed. The same site also contains distributions of and pointers to many free third party Python modules, programs and tools, and additional documentation.\n",
    "\n",
    "More: <https://docs.python.org/3/tutorial>"
   ]
  },
  {
   "cell_type": "markdown",
   "id": "a295d946",
   "metadata": {},
   "source": [
    "## Accessing Python\n",
    "\n",
    "There’s a good chance that you already have Python on your operating system.\n",
    "\n",
    "If so, you do not need to install or configure anything else to use Python. Having said that, I would strongly recommend that you install the tools and libraries described in the guides below before you start building Python applications for use in this course.\n",
    "\n",
    "More: <https://docs.python-guide.org/starting/installation/>"
   ]
  },
  {
   "cell_type": "markdown",
   "id": "d0c833e6",
   "metadata": {},
   "source": [
    "### Using Python on a School of Computer Science machine\n",
    "\n",
    "On a School of Computer Science machine you can access an upto date version of python using `anaconda`:\n",
    "```\n",
    "$ module add anaconda3\n",
    "```\n",
    "\n",
    "You test your version of Python by running:\n",
    "```\n",
    "$ python --version\n",
    "Python 3.12.4\n",
    "```"
   ]
  },
  {
   "cell_type": "markdown",
   "id": "8f6263af",
   "metadata": {},
   "source": [
    "### Using python on your own device\n",
    "\n",
    "You are recommended to install [Anaconda](https://www.anaconda.com/products/distribution) and python 3. Anaconda gives up-to-date version of python and python libraries which you can use during this module.\n",
    "\n",
    "Choosing this option will require an initial software installation and routine updates. For this course the recommended package is Anaconda available from Continuum Analytics. Downloading and installing the software is well documented and easy to follow. Allow about 10-30 minutes for the installation depending on your connection speed.\n",
    "\n",
    "You will require the following python libraries:\n",
    "\n",
    "- `numpy`\n",
    "- `matplotlib`\n",
    "- `scipy` (optional)\n",
    "\n",
    "These can be installed by calling\n",
    "\n",
    "```\n",
    "$ conda install numpy matplotlib scipy\n",
    "```\n",
    "\n",
    "<div class=\"alert alert-block alert-warning\">\n",
    "There is no requirement to submit code that works on a School of Computer Science machine for this module. We recommend using `python` version `>=3.10`.\n",
    "</div>"
   ]
  },
  {
   "cell_type": "markdown",
   "id": "a06f23f2",
   "metadata": {
    "tags": []
   },
   "source": [
    "## What is Jupyter?\n",
    "\n",
    "[![](https://jupyter.org/assets/homepage/main-logo.svg)](https://jupyter.org/)\n",
    "\n",
    "Jupyter notebooks are documents that can be viewed and executed inside any modern web browser. Since you're reader this notebook, you already know how to view a Jupyter Notebook. The next step is to learn how to execute comptuations that may be embedded in a Jupyter Notebook.\n",
    "\n",
    "To execute Python code in a notebook you will need access to a Python kernal. A kernal is simply a program that runs in the background, maintains workspace memory for variables and functions, and executes Python code. The kernal can be located on the same laptop as your web browser or located in an on-line cloud service.\n",
    "\n",
    "We recommend the use of [jupyter lab](https://jupyterlab.readthedocs.io/en/stable/index.html) which is the next generation web-based interface for jupyter notebooks.\n",
    "\n",
    "See this video for a brief introduction:"
   ]
  },
  {
   "cell_type": "code",
   "execution_count": 2,
   "id": "708ffc23",
   "metadata": {},
   "outputs": [
    {
     "data": {
      "image/jpeg": "[encoded data removed]",
      "text/html": [
       "\n",
       "        <iframe\n",
       "            width=\"560\"\n",
       "            height=\"315\"\n",
       "            src=\"https://www.youtube.com/embed/A5YyoCKxEOU?rel=0\"\n",
       "            frameborder=\"0\"\n",
       "            allowfullscreen\n",
       "            \n",
       "        ></iframe>\n",
       "        "
      ],
      "text/plain": [
       "<IPython.lib.display.YouTubeVideo at 0x7f00c5b83820>"
      ]
     },
     "execution_count": 2,
     "metadata": {},
     "output_type": "execute_result"
    }
   ],
   "source": [
    "from IPython.display import YouTubeVideo\n",
    "\n",
    "YouTubeVideo(\"A5YyoCKxEOU\", 560, 315, rel=0)"
   ]
  },
  {
   "cell_type": "markdown",
   "id": "3bd74fa3",
   "metadata": {
    "tags": []
   },
   "source": [
    "### Using Jupyter on a School of Computer Science machine\n",
    "\n",
    "If you have followed the same `module add anaconda3/2020.11` etc instructions from before to load Python, you will already have Jupyter Lab installed."
   ]
  },
  {
   "cell_type": "markdown",
   "id": "c8dbfd46",
   "metadata": {
    "tags": []
   },
   "source": [
    "### Using Jupyter in the cloud\n",
    "\n",
    "The easiest way to use Jupyter notebooks is to sign up for a free or paid account on a cloud-based service such as [binder](https://mybinder.org), [Google Colab](https://colab.research.google.com/) or [Deep note](https://deepnote.com/).\n",
    "Note that the free services are generally heavily oversubscribed, so you should consider a paid account to assure access during prime hours.\n",
    "\n",
    "We have already created the links on binder for you to use. Simply click to [![Launch binder](https://mybinder.org/badge_logo.svg)](https://mybinder.org/v2/gl/comp2421-numerical-computation%2Fbook/master). Each notebook in this course will have a similar logo at the top so that you can launch that notebook in binder too."
   ]
  },
  {
   "cell_type": "markdown",
   "id": "0689a6e5",
   "metadata": {
    "tags": []
   },
   "source": [
    "### Using Jupyter on your own laptop\n",
    "\n",
    "For regular off-line use you should consider installing a Jupyter Notebook/Python environment directly on your laptop. This will provide you with reliable off-line access to a computational environment. This will also allow you to install additional code libraries to meet particular needs.\n",
    "\n",
    "To install jupyterlab you should write:\n",
    "```\n",
    "$ conda install -c conda-forge jupyterlab\n",
    "```"
   ]
  },
  {
   "cell_type": "markdown",
   "id": "ef3fb047",
   "metadata": {},
   "source": [
    "## Step 1: Start a jupyter notebook session\n",
    "\n",
    "If you are using a cloud-based service a Jupyter session will be started when you log on.\n",
    "\n",
    "If you have installed Jupyter on your own laptop or on a School of Computing machine you can open a Jupyter session from a terminal:\n",
    "\n",
    "```\n",
    "$ jupyter lab\n",
    "```\n",
    "\n",
    "Either way, once you have opened the session you should see a browser window like this:\n",
    "\n",
    "![](https://jupyterlab.readthedocs.io/en/stable/_images/jupyterlab.png)\n",
    "\n",
    "If you are unfamiliar with jupyter lab or jupyter notebooks we recommend you follow the [user documentation](https://jupyterlab.readthedocs.io/en/stable/user/interface.html). Alternatively we give a brief guide below."
   ]
  },
  {
   "cell_type": "markdown",
   "id": "7a4e063e",
   "metadata": {},
   "source": [
    "### Running cells\n",
    "\n",
    "A notebook's cells default to code whenever you first create one, and that cell uses the kernal that you chose when you started your notebook.\n",
    "\n",
    "To verify everything is working, you can add some python code to the cells and try running its contents."
   ]
  },
  {
   "cell_type": "code",
   "execution_count": null,
   "id": "73b5ce7f",
   "metadata": {},
   "outputs": [],
   "source": [
    "print(\"Hello jupyter\")\n",
    "a = 3\n",
    "b = 2\n",
    "print(a + b)"
   ]
  },
  {
   "cell_type": "markdown",
   "id": "afed3e70",
   "metadata": {},
   "source": [
    "Running a cell means that you will execute the cell's contents. To execute a cell, you can just select the cell and click *Run* button that is in the row of buttons along the top. It's towards the middle. If you prefer using your keyboard, you can just press \"Shift\" and \"Enter\"."
   ]
  },
  {
   "cell_type": "markdown",
   "id": "800c9418",
   "metadata": {},
   "source": [
    "If you have multiple cells in your Notebook, and you run the cells in order, you can share your variables and imports across cells. This makes it easy to separate out your code into logical chunks without needing to reimport libraries or recreate variables or functions in every cell.\n",
    "\n",
    "When you run a cell, you will notice that there are some square braces next to the word In to the left of the cell. The square braces will auto fill with a number that indicates the order that you ran the cells. For example, if you open a fresh Notebook and run the first cell at the top of the Notebook, the square braces will fill with the number 1."
   ]
  },
  {
   "cell_type": "markdown",
   "id": "6f5856a2",
   "metadata": {},
   "source": [
    "<div class=\"alert alert-block alert-warning\">\n",
    "    <b>Since the kernel is always running you code that you have executed just builds up on top of previous code. When submitted coursework or worksheet solutions you should always \"Restart kernel and rerun\" before submitting your work!!</b>\n",
    "</div>\n",
    "\n",
    "See also <https://www.nature.com/articles/d41586-021-01174-w> and <https://towardsdatascience.com/on-the-myths-and-problems-of-jupyter-notebooks-81517a4696ef>."
   ]
  },
  {
   "cell_type": "markdown",
   "id": "a19d6e14",
   "metadata": {
    "tags": []
   },
   "source": [
    "## Step 2: Simple calculations with python\n",
    "\n",
    "Python is an elegant and modern language for programming and problem solving that has found increasing use by engineers and scientists. In the next few cells we'll demonstrate some basic functionality.\n",
    "\n",
    "We take the following from <https://learnxinyminutes.com/docs/python/>. If you are already familiar with python you may wish to skip this section."
   ]
  },
  {
   "cell_type": "code",
   "execution_count": null,
   "id": "1883128d",
   "metadata": {},
   "outputs": [],
   "source": [
    "# Single line comments start with a number symbol.\n",
    "\n",
    "\"\"\" Multiline strings can be written\n",
    "    using three \"s, and are often used\n",
    "    as documentation.\n",
    "\"\"\""
   ]
  },
  {
   "cell_type": "code",
   "execution_count": null,
   "id": "0ea50ea0",
   "metadata": {},
   "outputs": [],
   "source": [
    "### Primitive Data types and Operators"
   ]
  },
  {
   "cell_type": "code",
   "execution_count": null,
   "id": "c9f8fda7",
   "metadata": {},
   "outputs": [],
   "source": [
    "# You have numbers\n",
    "3  # => 3"
   ]
  },
  {
   "cell_type": "code",
   "execution_count": null,
   "id": "3f05f93e",
   "metadata": {},
   "outputs": [],
   "source": [
    "# Math is what you would expect\n",
    "1 + 1  # => 2\n",
    "8 - 1  # => 7\n",
    "10 * 2  # => 20\n",
    "35 / 5  # => 7.0"
   ]
  },
  {
   "cell_type": "code",
   "execution_count": null,
   "id": "b2222060",
   "metadata": {},
   "outputs": [],
   "source": [
    "# Integer division rounds down for both positive and negative numbers.\n",
    "5 // 3  # => 1\n",
    "-5 // 3  # => -2\n",
    "5.0 // 3.0  # => 1.0 # works on floats too\n",
    "-5.0 // 3.0  # => -2.0"
   ]
  },
  {
   "cell_type": "code",
   "execution_count": null,
   "id": "8d933eef",
   "metadata": {},
   "outputs": [],
   "source": [
    "# The result of division is always a float\n",
    "10.0 / 3  # => 3.3333333333333335"
   ]
  },
  {
   "cell_type": "code",
   "execution_count": null,
   "id": "81e9183e",
   "metadata": {},
   "outputs": [],
   "source": [
    "# Modulo operation\n",
    "7 % 3  # => 1\n",
    "# i % j have the same sign as j, unlike C\n",
    "-7 % 3  # => 2"
   ]
  },
  {
   "cell_type": "code",
   "execution_count": null,
   "id": "b45541d6",
   "metadata": {},
   "outputs": [],
   "source": [
    "# Exponentiation (x**y, x to the yth power)\n",
    "2**3  # => 8"
   ]
  },
  {
   "cell_type": "code",
   "execution_count": null,
   "id": "70b0dc5b",
   "metadata": {},
   "outputs": [],
   "source": [
    "# Enforce precedence with parentheses\n",
    "1 + 3 * 2  # => 7\n",
    "(1 + 3) * 2  # => 8"
   ]
  },
  {
   "cell_type": "code",
   "execution_count": null,
   "id": "9d331936",
   "metadata": {},
   "outputs": [],
   "source": [
    "# Boolean values are primitives (Note: the capitalization)\n",
    "True  # => True\n",
    "False  # => False"
   ]
  },
  {
   "cell_type": "code",
   "execution_count": null,
   "id": "833b5592",
   "metadata": {},
   "outputs": [],
   "source": [
    "# negate with not\n",
    "not True  # => False\n",
    "not False  # => True"
   ]
  },
  {
   "cell_type": "code",
   "execution_count": null,
   "id": "d81ff229",
   "metadata": {},
   "outputs": [],
   "source": [
    "# Boolean Operators\n",
    "# Note \"and\" and \"or\" are case-sensitive\n",
    "True and False  # => False\n",
    "False or True  # => True"
   ]
  },
  {
   "cell_type": "code",
   "execution_count": null,
   "id": "36b31f08",
   "metadata": {},
   "outputs": [],
   "source": [
    "# True and False are actually 1 and 0 but with different keywords\n",
    "True + True  # => 2\n",
    "True * 8  # => 8\n",
    "False - 5  # => -5"
   ]
  },
  {
   "cell_type": "code",
   "execution_count": null,
   "id": "facb61db",
   "metadata": {},
   "outputs": [],
   "source": [
    "# Comparison operators look at the numerical value of True and False\n",
    "0 == False  # => True\n",
    "1 == True  # => True\n",
    "2 == True  # => False\n",
    "-5 != False  # => True"
   ]
  },
  {
   "cell_type": "code",
   "execution_count": null,
   "id": "d557e634",
   "metadata": {},
   "outputs": [],
   "source": [
    "# Using boolean logical operators on ints casts them to booleans for evaluation, but their non-cast value is returned\n",
    "# Don't mix up with bool(ints) and bitwise and/or (&,|)\n",
    "bool(0)  # => False\n",
    "bool(4)  # => True\n",
    "bool(-6)  # => True\n",
    "0 and 2  # => 0\n",
    "-5 or 0  # => -5"
   ]
  },
  {
   "cell_type": "code",
   "execution_count": null,
   "id": "7bbb69cc",
   "metadata": {},
   "outputs": [],
   "source": [
    "# Equality is ==\n",
    "1 == 1  # => True\n",
    "2 == 1  # => False"
   ]
  },
  {
   "cell_type": "code",
   "execution_count": null,
   "id": "2278b4bc",
   "metadata": {},
   "outputs": [],
   "source": [
    "# Inequality is !=\n",
    "1 != 1  # => False\n",
    "2 != 1  # => True"
   ]
  },
  {
   "cell_type": "code",
   "execution_count": null,
   "id": "e41b035c",
   "metadata": {},
   "outputs": [],
   "source": [
    "# More comparisons\n",
    "1 < 10  # => True\n",
    "1 > 10  # => False\n",
    "2 <= 2  # => True\n",
    "2 >= 2  # => True"
   ]
  },
  {
   "cell_type": "code",
   "execution_count": null,
   "id": "01c1bd22",
   "metadata": {},
   "outputs": [],
   "source": [
    "# Seeing whether a value is in a range\n",
    "1 < 2 and 2 < 3  # => True\n",
    "2 < 3 and 3 < 2  # => False\n",
    "# Chaining makes this look nicer\n",
    "1 < 2 < 3  # => True\n",
    "2 < 3 < 2  # => False"
   ]
  },
  {
   "cell_type": "code",
   "execution_count": null,
   "id": "8b56a824",
   "metadata": {},
   "outputs": [],
   "source": [
    "# (is vs. ==) is checks if two variables refer to the same object, but == checks\n",
    "# if the objects pointed to have the same values.\n",
    "a = [1, 2, 3, 4]  # Point a at a new list, [1, 2, 3, 4]\n",
    "b = a  # Point b at what a is pointing to\n",
    "b is a  # => True, a and b refer to the same object\n",
    "b == a  # => True, a's and b's objects are equal\n",
    "b = [1, 2, 3, 4]  # Point b at a new list, [1, 2, 3, 4]\n",
    "b is a  # => False, a and b do not refer to the same object\n",
    "b == a  # => True, a's and b's objects are equal"
   ]
  },
  {
   "cell_type": "code",
   "execution_count": null,
   "id": "3d6bf39a",
   "metadata": {},
   "outputs": [],
   "source": [
    "# Strings are created with \" or '\n",
    "\"This is a string.\"\n",
    "\"This is also a string.\""
   ]
  },
  {
   "cell_type": "code",
   "execution_count": null,
   "id": "61d38b58",
   "metadata": {},
   "outputs": [],
   "source": [
    "# Strings can be added too\n",
    "\"Hello \" + \"world!\"  # => \"Hello world!\"\n",
    "# String literals (but not variables) can be concatenated without using '+'\n",
    "\"Hello \" \"world!\"  # => \"Hello world!\""
   ]
  },
  {
   "cell_type": "code",
   "execution_count": null,
   "id": "92f19d76",
   "metadata": {},
   "outputs": [],
   "source": [
    "# A string can be treated like a list of characters\n",
    "\"Hello world!\"[0]  # => 'H'"
   ]
  },
  {
   "cell_type": "code",
   "execution_count": null,
   "id": "e5f7d209",
   "metadata": {},
   "outputs": [],
   "source": [
    "# You can find the length of a string\n",
    "len(\"This is a string\")  # => 16"
   ]
  },
  {
   "cell_type": "code",
   "execution_count": null,
   "id": "0e6764ea",
   "metadata": {},
   "outputs": [],
   "source": [
    "# You can also format using f-strings or formatted string literals (in Python 3.6+)\n",
    "name = \"Reiko\"\n",
    "f\"She said her name is {name}.\"  # => \"She said her name is Reiko\"\n",
    "# You can basically put any Python expression inside the braces and it will be output in the string.\n",
    "f\"{name} is {len(name)} characters long.\"  # => \"Reiko is 5 characters long.\""
   ]
  },
  {
   "cell_type": "code",
   "execution_count": null,
   "id": "b9ee5d93",
   "metadata": {},
   "outputs": [],
   "source": [
    "# None is an object\n",
    "None  # => None"
   ]
  },
  {
   "cell_type": "code",
   "execution_count": null,
   "id": "e86ac493",
   "metadata": {},
   "outputs": [],
   "source": [
    "# Don't use the equality \"==\" symbol to compare objects to None\n",
    "# Use \"is\" instead. This checks for equality of object identity.\n",
    "\"etc\" is None  # => False <-- this gives a warning since \"etc\" is clearly not None!!\n",
    "None is None  # => True"
   ]
  },
  {
   "cell_type": "code",
   "execution_count": null,
   "id": "4f297305",
   "metadata": {},
   "outputs": [],
   "source": [
    "# None, 0, and empty strings/lists/dicts/tuples/sets all evaluate to False.\n",
    "# All other values are True\n",
    "bool(0)  # => False\n",
    "bool(\"\")  # => False\n",
    "bool([])  # => False\n",
    "bool({})  # => False\n",
    "bool(())  # => False\n",
    "bool(set())  # => False"
   ]
  },
  {
   "cell_type": "markdown",
   "id": "debe286a",
   "metadata": {},
   "source": [
    "### Variables and collections"
   ]
  },
  {
   "cell_type": "code",
   "execution_count": null,
   "id": "e55414bd",
   "metadata": {},
   "outputs": [],
   "source": [
    "# Python has a print function\n",
    "print(\"I'm Python. Nice to meet you!\")  # => I'm Python. Nice to meet you!"
   ]
  },
  {
   "cell_type": "code",
   "execution_count": null,
   "id": "9767b676",
   "metadata": {},
   "outputs": [],
   "source": [
    "# By default the print function also prints out a newline at the end.\n",
    "# Use the optional argument end to change the end string.\n",
    "print(\"Hello, World\", end=\"!\")  # => Hello, World!"
   ]
  },
  {
   "cell_type": "code",
   "execution_count": null,
   "id": "6ffb1bab",
   "metadata": {},
   "outputs": [],
   "source": [
    "# Simple way to get input data from console\n",
    "input_string_var = input(\"Enter some data: \")  # Returns the data as a string"
   ]
  },
  {
   "cell_type": "code",
   "execution_count": null,
   "id": "03d6a5cd",
   "metadata": {},
   "outputs": [],
   "source": [
    "# There are no declarations, only assignments.\n",
    "# Convention is to use lower_case_with_underscores\n",
    "some_var = 5\n",
    "some_var  # => 5"
   ]
  },
  {
   "cell_type": "code",
   "execution_count": null,
   "id": "08137e92",
   "metadata": {},
   "outputs": [],
   "source": [
    "# Accessing a previously unassigned variable is an exception.\n",
    "# See Control Flow to learn more about exception handling.\n",
    "some_unknown_var  # Raises a NameError"
   ]
  },
  {
   "cell_type": "code",
   "execution_count": null,
   "id": "23d1759f",
   "metadata": {},
   "outputs": [],
   "source": [
    "# if can be used as an expression\n",
    "# Equivalent of C's '?:' ternary operator\n",
    "\"yay!\" if 0 > 1 else \"nay!\"  # => \"nay!\""
   ]
  },
  {
   "cell_type": "code",
   "execution_count": null,
   "id": "dd0baf97",
   "metadata": {},
   "outputs": [],
   "source": [
    "# Lists store sequences\n",
    "li = []\n",
    "# You can start with a prefilled list\n",
    "other_li = [4, 5, 6]"
   ]
  },
  {
   "cell_type": "code",
   "execution_count": null,
   "id": "2149b57b",
   "metadata": {},
   "outputs": [],
   "source": [
    "# Add stuff to the end of a list with append\n",
    "li.append(1)  # li is now [1]\n",
    "li.append(2)  # li is now [1, 2]\n",
    "li.append(4)  # li is now [1, 2, 4]\n",
    "li.append(3)  # li is now [1, 2, 4, 3]\n",
    "# Remove from the end with pop\n",
    "li.pop()  # => 3 and li is now [1, 2, 4]\n",
    "# Let's put it back\n",
    "li.append(3)  # li is now [1, 2, 4, 3] again."
   ]
  },
  {
   "cell_type": "code",
   "execution_count": null,
   "id": "38a302a4",
   "metadata": {},
   "outputs": [],
   "source": [
    "# Access a list like you would any array\n",
    "li[0]  # => 1\n",
    "# Look at the last element\n",
    "li[-1]  # => 3"
   ]
  },
  {
   "cell_type": "code",
   "execution_count": null,
   "id": "9d5c4fdd",
   "metadata": {},
   "outputs": [],
   "source": [
    "# Looking out of bounds is an IndexError\n",
    "li[4]  # Raises an IndexError"
   ]
  },
  {
   "cell_type": "code",
   "execution_count": null,
   "id": "ede31b22",
   "metadata": {},
   "outputs": [],
   "source": [
    "# You can look at ranges with slice syntax.\n",
    "# The start index is included, the end index is not\n",
    "# (It's a closed/open range for you mathy types.)\n",
    "li[1:3]  # Return list from index 1 to 3 => [2, 4]\n",
    "li[2:]  # Return list starting from index 2 => [4, 3]\n",
    "li[:3]  # Return list from beginning until index 3  => [1, 2, 4]\n",
    "li[::2]  # Return list selecting every second entry => [1, 4]\n",
    "li[::-1]  # Return list in reverse order => [3, 4, 2, 1]\n",
    "# Use any combination of these to make advanced slices\n",
    "# li[start:end:step]"
   ]
  },
  {
   "cell_type": "code",
   "execution_count": null,
   "id": "e9998c65",
   "metadata": {},
   "outputs": [],
   "source": [
    "# Make a one layer deep copy using slices\n",
    "li2 = li[:]  # => li2 = [1, 2, 4, 3] but (li2 is li) will result in false."
   ]
  },
  {
   "cell_type": "code",
   "execution_count": null,
   "id": "67101069",
   "metadata": {},
   "outputs": [],
   "source": [
    "# Remove arbitrary elements from a list with \"del\"\n",
    "del li[2]  # li is now [1, 2, 3]"
   ]
  },
  {
   "cell_type": "code",
   "execution_count": null,
   "id": "d536b514",
   "metadata": {},
   "outputs": [],
   "source": [
    "# Remove first occurrence of a value\n",
    "li.remove(2)  # li is now [1, 3]\n",
    "li.remove(2)  # Raises a ValueError as 2 is not in the list"
   ]
  },
  {
   "cell_type": "code",
   "execution_count": null,
   "id": "5ce0e145",
   "metadata": {},
   "outputs": [],
   "source": [
    "# Insert an element at a specific index\n",
    "li.insert(1, 2)  # li is now [1, 2, 3] again"
   ]
  },
  {
   "cell_type": "code",
   "execution_count": null,
   "id": "49e94ab7",
   "metadata": {},
   "outputs": [],
   "source": [
    "# Get the index of the first item found matching the argument\n",
    "li.index(2)  # => 1\n",
    "li.index(4)  # Raises a ValueError as 4 is not in the list"
   ]
  },
  {
   "cell_type": "code",
   "execution_count": null,
   "id": "4fdf0a92",
   "metadata": {},
   "outputs": [],
   "source": [
    "# You can add lists\n",
    "# Note: values for li and for other_li are not modified.\n",
    "li + other_li  # => [1, 2, 3, 4, 5, 6]"
   ]
  },
  {
   "cell_type": "code",
   "execution_count": null,
   "id": "412b02c1",
   "metadata": {},
   "outputs": [],
   "source": [
    "# Concatenate lists with \"extend()\"\n",
    "li.extend(other_li)  # Now li is [1, 2, 3, 4, 5, 6]\n",
    "li"
   ]
  },
  {
   "cell_type": "code",
   "execution_count": null,
   "id": "b44920c9",
   "metadata": {},
   "outputs": [],
   "source": [
    "# Check for existence in a list with \"in\"\n",
    "1 in li  # => True"
   ]
  },
  {
   "cell_type": "code",
   "execution_count": null,
   "id": "ba3bcd37",
   "metadata": {},
   "outputs": [],
   "source": [
    "# Examine the length with \"len()\"\n",
    "len(li)  # => 6"
   ]
  },
  {
   "cell_type": "code",
   "execution_count": null,
   "id": "77c77cb0",
   "metadata": {},
   "outputs": [],
   "source": [
    "# Tuples are like lists but are immutable.\n",
    "tup = (1, 2, 3)\n",
    "tup[0]  # => 1\n",
    "tup[0] = 3  # Raises a TypeError"
   ]
  },
  {
   "cell_type": "code",
   "execution_count": null,
   "id": "6b7f9eec",
   "metadata": {},
   "outputs": [],
   "source": [
    "# Note that a tuple of length one has to have a comma after the last element but\n",
    "# tuples of other lengths, even zero, do not.\n",
    "type((1))  # => <class 'int'>\n",
    "type((1,))  # => <class 'tuple'>\n",
    "type(())  # => <class 'tuple'>"
   ]
  },
  {
   "cell_type": "code",
   "execution_count": null,
   "id": "3f184b29",
   "metadata": {},
   "outputs": [],
   "source": [
    "# You can do most of the list operations on tuples too\n",
    "len(tup)  # => 3\n",
    "tup + (4, 5, 6)  # => (1, 2, 3, 4, 5, 6)\n",
    "tup[:2]  # => (1, 2)\n",
    "2 in tup  # => True"
   ]
  },
  {
   "cell_type": "code",
   "execution_count": null,
   "id": "4317ec34",
   "metadata": {},
   "outputs": [],
   "source": [
    "# You can unpack tuples (or lists) into variables\n",
    "a, b, c = (1, 2, 3)  # a is now 1, b is now 2 and c is now 3\n",
    "# You can also do extended unpacking\n",
    "a, *b, c = (1, 2, 3, 4)  # a is now 1, b is now [2, 3] and c is now 4\n",
    "# Tuples are created by default if you leave out the parentheses\n",
    "d, e, f = 4, 5, 6  # tuple 4, 5, 6 is unpacked into variables d, e and f\n",
    "# respectively such that d = 4, e = 5 and f = 6\n",
    "# Now look how easy it is to swap two values\n",
    "e, d = d, e  # d is now 5 and e is now 4"
   ]
  },
  {
   "cell_type": "code",
   "execution_count": null,
   "id": "9df24b1d",
   "metadata": {},
   "outputs": [],
   "source": [
    "# Dictionaries store mappings from keys to values\n",
    "empty_dict = {}\n",
    "# Here is a prefilled dictionary\n",
    "filled_dict = {\"one\": 1, \"two\": 2, \"three\": 3}"
   ]
  },
  {
   "cell_type": "code",
   "execution_count": null,
   "id": "4994174d",
   "metadata": {},
   "outputs": [],
   "source": [
    "# Note keys for dictionaries have to be immutable types. This is to ensure that\n",
    "# the key can be converted to a constant hash value for quick look-ups.\n",
    "# Immutable types include ints, floats, strings, tuples.\n",
    "invalid_dict = {[1, 2, 3]: \"123\"}  # => Raises a TypeError: unhashable type: 'list'\n",
    "valid_dict = {(1, 2, 3): [1, 2, 3]}  # Values can be of any type, however."
   ]
  },
  {
   "cell_type": "code",
   "execution_count": null,
   "id": "076e5e4a",
   "metadata": {},
   "outputs": [],
   "source": [
    "# Look up values with []\n",
    "filled_dict[\"one\"]  # => 1"
   ]
  },
  {
   "cell_type": "code",
   "execution_count": null,
   "id": "5774c067",
   "metadata": {},
   "outputs": [],
   "source": [
    "# Get all keys as an iterable with \"keys()\". We need to wrap the call in list()\n",
    "# to turn it into a list. We'll talk about those later.  Note - for Python\n",
    "# versions <3.7, dictionary key ordering is not guaranteed. Your results might\n",
    "# not match the example below exactly. However, as of Python 3.7, dictionary\n",
    "# items maintain the order at which they are inserted into the dictionary.\n",
    "list(filled_dict.keys())  # => [\"three\", \"two\", \"one\"] in Python <3.7\n",
    "list(filled_dict.keys())  # => [\"one\", \"two\", \"three\"] in Python 3.7+"
   ]
  },
  {
   "cell_type": "code",
   "execution_count": null,
   "id": "e29c8e5c",
   "metadata": {},
   "outputs": [],
   "source": [
    "# Get all values as an iterable with \"values()\". Once again we need to wrap it\n",
    "# in list() to get it out of the iterable. Note - Same as above regarding key\n",
    "# ordering.\n",
    "list(filled_dict.values())  # => [3, 2, 1]  in Python <3.7\n",
    "list(filled_dict.values())  # => [1, 2, 3] in Python 3.7+"
   ]
  },
  {
   "cell_type": "code",
   "execution_count": null,
   "id": "8fb92756",
   "metadata": {},
   "outputs": [],
   "source": [
    "# Check for existence of keys in a dictionary with \"in\"\n",
    "\"one\" in filled_dict  # => True\n",
    "1 in filled_dict  # => False"
   ]
  },
  {
   "cell_type": "code",
   "execution_count": null,
   "id": "16db1976",
   "metadata": {},
   "outputs": [],
   "source": [
    "# Looking up a non-existing key is a KeyError\n",
    "filled_dict[\"four\"]  # KeyError"
   ]
  },
  {
   "cell_type": "code",
   "execution_count": null,
   "id": "181a45f1",
   "metadata": {},
   "outputs": [],
   "source": [
    "# Use \"get()\" method to avoid the KeyError\n",
    "filled_dict.get(\"one\")  # => 1\n",
    "filled_dict.get(\"four\")  # => None\n",
    "# The get method supports a default argument when the value is missing\n",
    "filled_dict.get(\"one\", 4)  # => 1\n",
    "filled_dict.get(\"four\", 4)  # => 4"
   ]
  },
  {
   "cell_type": "code",
   "execution_count": null,
   "id": "f357743c",
   "metadata": {},
   "outputs": [],
   "source": [
    "# \"setdefault()\" inserts into a dictionary only if the given key isn't present\n",
    "filled_dict.setdefault(\"five\", 5)  # filled_dict[\"five\"] is set to 5\n",
    "filled_dict.setdefault(\"five\", 6)  # filled_dict[\"five\"] is still 5"
   ]
  },
  {
   "cell_type": "code",
   "execution_count": null,
   "id": "f364d81f",
   "metadata": {},
   "outputs": [],
   "source": [
    "# Adding to a dictionary\n",
    "filled_dict.update({\"four\": 4})  # => {\"one\": 1, \"two\": 2, \"three\": 3, \"four\": 4}\n",
    "filled_dict[\"four\"] = 4  # another way to add to dict"
   ]
  },
  {
   "cell_type": "code",
   "execution_count": null,
   "id": "6b3b50e2",
   "metadata": {},
   "outputs": [],
   "source": [
    "# Remove keys from a dictionary with del\n",
    "del filled_dict[\"one\"]  # Removes the key \"one\" from filled dict"
   ]
  },
  {
   "cell_type": "code",
   "execution_count": null,
   "id": "642023be",
   "metadata": {},
   "outputs": [],
   "source": [
    "# From Python 3.5 you can also use the additional unpacking options\n",
    "{\"a\": 1, **{\"b\": 2}}  # => {'a': 1, 'b': 2}\n",
    "{\"a\": 1, **{\"a\": 2}}  # => {'a': 2}"
   ]
  },
  {
   "cell_type": "code",
   "execution_count": null,
   "id": "faf15efd",
   "metadata": {},
   "outputs": [],
   "source": [
    "# Sets store ... well sets\n",
    "empty_set = set()\n",
    "# Initialize a set with a bunch of values. Yeah, it looks a bit like a dict. Sorry.\n",
    "some_set = {1, 1, 2, 2, 3, 4}  # some_set is now {1, 2, 3, 4}"
   ]
  },
  {
   "cell_type": "code",
   "execution_count": null,
   "id": "6b3f8d69",
   "metadata": {},
   "outputs": [],
   "source": [
    "# Similar to keys of a dictionary, elements of a set have to be immutable.\n",
    "invalid_set = {[1], 1}  # => Raises a TypeError: unhashable type: 'list'\n",
    "valid_set = {(1,), 1}"
   ]
  },
  {
   "cell_type": "code",
   "execution_count": null,
   "id": "a8ed5b0c",
   "metadata": {},
   "outputs": [],
   "source": [
    "# Add one more item to the set\n",
    "filled_set = some_set\n",
    "filled_set.add(5)  # filled_set is now {1, 2, 3, 4, 5}\n",
    "# Sets do not have duplicate elements\n",
    "filled_set.add(5)  # it remains as before {1, 2, 3, 4, 5}"
   ]
  },
  {
   "cell_type": "code",
   "execution_count": null,
   "id": "9b9dcafe",
   "metadata": {},
   "outputs": [],
   "source": [
    "# Do set intersection with &\n",
    "other_set = {3, 4, 5, 6}\n",
    "filled_set & other_set  # => {3, 4, 5}"
   ]
  },
  {
   "cell_type": "code",
   "execution_count": null,
   "id": "25c9c2c5",
   "metadata": {},
   "outputs": [],
   "source": [
    "# Do set union with |\n",
    "filled_set | other_set  # => {1, 2, 3, 4, 5, 6}"
   ]
  },
  {
   "cell_type": "code",
   "execution_count": null,
   "id": "44286e06",
   "metadata": {},
   "outputs": [],
   "source": [
    "# Do set difference with -\n",
    "{1, 2, 3, 4} - {2, 3, 5}  # => {1, 4}"
   ]
  },
  {
   "cell_type": "code",
   "execution_count": null,
   "id": "5be0eb82",
   "metadata": {},
   "outputs": [],
   "source": [
    "# Do set symmetric difference with ^\n",
    "{1, 2, 3, 4} ^ {2, 3, 5}  # => {1, 4, 5}"
   ]
  },
  {
   "cell_type": "code",
   "execution_count": null,
   "id": "d5ac5f16",
   "metadata": {},
   "outputs": [],
   "source": [
    "# Check if set on the left is a superset of set on the right\n",
    "{1, 2} >= {1, 2, 3}  # => False"
   ]
  },
  {
   "cell_type": "code",
   "execution_count": null,
   "id": "a2b70b9d",
   "metadata": {},
   "outputs": [],
   "source": [
    "# Check if set on the left is a subset of set on the right\n",
    "{1, 2} <= {1, 2, 3}  # => True"
   ]
  },
  {
   "cell_type": "code",
   "execution_count": null,
   "id": "dcbd5bbb",
   "metadata": {},
   "outputs": [],
   "source": [
    "# Check for existence in a set with in\n",
    "2 in filled_set  # => True\n",
    "10 in filled_set  # => False"
   ]
  },
  {
   "cell_type": "code",
   "execution_count": null,
   "id": "d5d41508",
   "metadata": {},
   "outputs": [],
   "source": [
    "# Make a one layer deep copy\n",
    "filled_set = some_set.copy()  # filled_set is {1, 2, 3, 4, 5}\n",
    "filled_set is some_set  # => False"
   ]
  },
  {
   "cell_type": "markdown",
   "id": "86b67eb8",
   "metadata": {},
   "source": [
    "### Control flow and iterables"
   ]
  },
  {
   "cell_type": "code",
   "execution_count": null,
   "id": "957793ea",
   "metadata": {},
   "outputs": [],
   "source": [
    "# Let's just make a variable\n",
    "some_var = 5"
   ]
  },
  {
   "cell_type": "code",
   "execution_count": null,
   "id": "9fd514f8",
   "metadata": {},
   "outputs": [],
   "source": [
    "# Here is an if statement. Indentation is significant in Python!\n",
    "# Convention is to use four spaces, not tabs.\n",
    "# This prints \"some_var is smaller than 10\"\n",
    "if some_var > 10:\n",
    "    print(\"some_var is totally bigger than 10.\")\n",
    "elif some_var < 10:  # This elif clause is optional.\n",
    "    print(\"some_var is smaller than 10.\")\n",
    "else:  # This is optional too.\n",
    "    print(\"some_var is indeed 10.\")"
   ]
  },
  {
   "cell_type": "code",
   "execution_count": null,
   "id": "3f67d360",
   "metadata": {},
   "outputs": [],
   "source": [
    "\"\"\"\n",
    "For loops iterate over lists\n",
    "prints:\n",
    "    dog is a mammal\n",
    "    cat is a mammal\n",
    "    mouse is a mammal\n",
    "\"\"\"\n",
    "\n",
    "for animal in [\"dog\", \"cat\", \"mouse\"]:\n",
    "    # You can use format() to interpolate formatted strings\n",
    "    print(\"{} is a mammal\".format(animal))"
   ]
  },
  {
   "cell_type": "code",
   "execution_count": null,
   "id": "d678b7a8",
   "metadata": {},
   "outputs": [],
   "source": [
    "\"\"\"\n",
    "\"range(number)\" returns an iterable of numbers\n",
    "from zero to the given number\n",
    "prints:\n",
    "    0\n",
    "    1\n",
    "    2\n",
    "    3\n",
    "\"\"\"\n",
    "\n",
    "for i in range(4):\n",
    "    print(i)"
   ]
  },
  {
   "cell_type": "code",
   "execution_count": null,
   "id": "89505f38",
   "metadata": {},
   "outputs": [],
   "source": [
    "\"\"\"\n",
    "\"range(lower, upper)\" returns an iterable of numbers\n",
    "from the lower number to the upper number\n",
    "prints:\n",
    "    4\n",
    "    5\n",
    "    6\n",
    "    7\n",
    "\"\"\"\n",
    "\n",
    "for i in range(4, 8):\n",
    "    print(i)"
   ]
  },
  {
   "cell_type": "code",
   "execution_count": null,
   "id": "a332c67d",
   "metadata": {},
   "outputs": [],
   "source": [
    "\"\"\"\n",
    "\"range(lower, upper, step)\" returns an iterable of numbers\n",
    "from the lower number to the upper number, while incrementing\n",
    "by step. If step is not indicated, the default value is 1.\n",
    "prints:\n",
    "    4\n",
    "    6\n",
    "\"\"\"\n",
    "\n",
    "for i in range(4, 8, 2):\n",
    "    print(i)"
   ]
  },
  {
   "cell_type": "code",
   "execution_count": null,
   "id": "d829d764",
   "metadata": {},
   "outputs": [],
   "source": [
    "\"\"\"\n",
    "To loop over a list, and retrieve both the index and the value of each item in the list\n",
    "prints:\n",
    "    0 dog\n",
    "    1 cat\n",
    "    2 mouse\n",
    "\"\"\"\n",
    "\n",
    "animals = [\"dog\", \"cat\", \"mouse\"]\n",
    "for i, value in enumerate(animals):\n",
    "    print(i, value)"
   ]
  },
  {
   "cell_type": "code",
   "execution_count": null,
   "id": "bd65c856",
   "metadata": {},
   "outputs": [],
   "source": [
    "\"\"\"\n",
    "While loops go until a condition is no longer met.\n",
    "prints:\n",
    "    0\n",
    "    1\n",
    "    2\n",
    "    3\n",
    "\"\"\"\n",
    "\n",
    "x = 0\n",
    "while x < 4:\n",
    "    print(x)\n",
    "    x += 1  # Shorthand for x = x + 1"
   ]
  },
  {
   "cell_type": "code",
   "execution_count": null,
   "id": "47a4869c",
   "metadata": {},
   "outputs": [],
   "source": [
    "# Handle exceptions with a try/except block\n",
    "try:\n",
    "    # Use \"raise\" to raise an error\n",
    "    raise IndexError(\"This is an index error\")\n",
    "except IndexError as e:\n",
    "    pass  # Pass is just a no-op. Usually you would do recovery here.\n",
    "except (TypeError, NameError):\n",
    "    pass  # Multiple exceptions can be handled together, if required.\n",
    "else:  # Optional clause to the try/except block. Must follow all except blocks\n",
    "    print(\"All good!\")  # Runs only if the code in try raises no exceptions\n",
    "finally:  # Execute under all circumstances\n",
    "    print(\"We can clean up resources here\")"
   ]
  },
  {
   "cell_type": "code",
   "execution_count": null,
   "id": "34b98fae",
   "metadata": {},
   "outputs": [],
   "source": [
    "# Instead of try/finally to cleanup resources you can use a with statement\n",
    "with open(\"myfile.txt\") as f:\n",
    "    for line in f:\n",
    "        print(line)"
   ]
  },
  {
   "cell_type": "code",
   "execution_count": null,
   "id": "1522273e",
   "metadata": {},
   "outputs": [],
   "source": [
    "# Writing to a file\n",
    "contents = {\"aa\": 12, \"bb\": 21}\n",
    "with open(\"myfile1.txt\", \"w+\") as file:\n",
    "    file.write(str(contents))  # writes a string to a file"
   ]
  },
  {
   "cell_type": "code",
   "execution_count": null,
   "id": "5eae5414",
   "metadata": {},
   "outputs": [],
   "source": [
    "import json\n",
    "\n",
    "with open(\"myfile2.txt\", \"w+\") as file:\n",
    "    file.write(json.dumps(contents))  # writes an object to a file"
   ]
  },
  {
   "cell_type": "code",
   "execution_count": null,
   "id": "b67774ff",
   "metadata": {},
   "outputs": [],
   "source": [
    "# Reading from a file\n",
    "with open(\"myfile1.txt\", \"r+\") as file:\n",
    "    contents = file.read()  # reads a string from a file\n",
    "print(contents)\n",
    "# print: {\"aa\": 12, \"bb\": 21}"
   ]
  },
  {
   "cell_type": "code",
   "execution_count": null,
   "id": "73f79f4e",
   "metadata": {},
   "outputs": [],
   "source": [
    "with open(\"myfile2.txt\", \"r+\") as file:\n",
    "    contents = json.load(file)  # reads a json object from a file\n",
    "print(contents)\n",
    "# print: {\"aa\": 12, \"bb\": 21}"
   ]
  },
  {
   "cell_type": "code",
   "execution_count": null,
   "id": "5af85d78",
   "metadata": {},
   "outputs": [],
   "source": [
    "# Python offers a fundamental abstraction called the Iterable.\n",
    "# An iterable is an object that can be treated as a sequence.\n",
    "# The object returned by the range function, is an iterable.\n",
    "\n",
    "filled_dict = {\"one\": 1, \"two\": 2, \"three\": 3}\n",
    "our_iterable = filled_dict.keys()\n",
    "print(\n",
    "    our_iterable\n",
    ")  # => dict_keys(['one', 'two', 'three']). This is an object that implements our Iterable interface."
   ]
  },
  {
   "cell_type": "code",
   "execution_count": null,
   "id": "e132ae61",
   "metadata": {},
   "outputs": [],
   "source": [
    "# We can loop over it.\n",
    "for i in our_iterable:\n",
    "    print(i)  # Prints one, two, three"
   ]
  },
  {
   "cell_type": "code",
   "execution_count": null,
   "id": "689205c4",
   "metadata": {},
   "outputs": [],
   "source": [
    "# However we cannot address elements by index.\n",
    "our_iterable[1]  # Raises a TypeError"
   ]
  },
  {
   "cell_type": "code",
   "execution_count": null,
   "id": "6333e0f6",
   "metadata": {},
   "outputs": [],
   "source": [
    "# An iterable is an object that knows how to create an iterator.\n",
    "our_iterator = iter(our_iterable)"
   ]
  },
  {
   "cell_type": "code",
   "execution_count": null,
   "id": "045c0abc",
   "metadata": {},
   "outputs": [],
   "source": [
    "# Our iterator is an object that can remember the state as we traverse through it.\n",
    "# We get the next object with \"next()\".\n",
    "next(our_iterator)  # => \"one\""
   ]
  },
  {
   "cell_type": "code",
   "execution_count": null,
   "id": "3459fbf9",
   "metadata": {},
   "outputs": [],
   "source": [
    "# It maintains state as we iterate.\n",
    "next(our_iterator)  # => \"two\"\n",
    "next(our_iterator)  # => \"three\""
   ]
  },
  {
   "cell_type": "code",
   "execution_count": null,
   "id": "1c68c0d4",
   "metadata": {},
   "outputs": [],
   "source": [
    "# After the iterator has returned all of its data, it raises a StopIteration exception\n",
    "next(our_iterator)  # Raises StopIteration"
   ]
  },
  {
   "cell_type": "code",
   "execution_count": null,
   "id": "e1c63c84",
   "metadata": {},
   "outputs": [],
   "source": [
    "# We can also loop over it, in fact, \"for\" does this implicitly!\n",
    "our_iterator = iter(our_iterable)\n",
    "for i in our_iterator:\n",
    "    print(i)  # Prints one, two, three"
   ]
  },
  {
   "cell_type": "code",
   "execution_count": null,
   "id": "32b1cde9",
   "metadata": {},
   "outputs": [],
   "source": [
    "# You can grab all the elements of an iterable or iterator by calling list() on it.\n",
    "list(our_iterable)  # => Returns [\"one\", \"two\", \"three\"]\n",
    "list(our_iterator)  # => Returns [] because state is saved"
   ]
  },
  {
   "cell_type": "markdown",
   "id": "bbb776b8",
   "metadata": {},
   "source": [
    "### Function"
   ]
  },
  {
   "cell_type": "code",
   "execution_count": null,
   "id": "ce13b072",
   "metadata": {},
   "outputs": [],
   "source": [
    "# Use \"def\" to create new functions\n",
    "def add(x, y):\n",
    "    print(\"x is {} and y is {}\".format(x, y))\n",
    "    return x + y  # Return values with a return statement"
   ]
  },
  {
   "cell_type": "code",
   "execution_count": null,
   "id": "e6f7abd1",
   "metadata": {},
   "outputs": [],
   "source": [
    "# Calling functions with parameters\n",
    "add(5, 6)  # => prints out \"x is 5 and y is 6\" and returns 11"
   ]
  },
  {
   "cell_type": "code",
   "execution_count": null,
   "id": "3555bd6f",
   "metadata": {},
   "outputs": [],
   "source": [
    "# Another way to call functions is with keyword arguments\n",
    "add(y=6, x=5)  # Keyword arguments can arrive in any order."
   ]
  },
  {
   "cell_type": "code",
   "execution_count": null,
   "id": "ceefd671",
   "metadata": {},
   "outputs": [],
   "source": [
    "# You can define functions that take a variable number of\n",
    "# positional arguments\n",
    "def varargs(*args):\n",
    "    return args\n",
    "\n",
    "\n",
    "varargs(1, 2, 3)  # => (1, 2, 3)"
   ]
  },
  {
   "cell_type": "code",
   "execution_count": null,
   "id": "ea30475f",
   "metadata": {},
   "outputs": [],
   "source": [
    "# You can define functions that take a variable number of\n",
    "# keyword arguments, as well\n",
    "def keyword_args(**kwargs):\n",
    "    return kwargs\n",
    "\n",
    "\n",
    "# Let's call it to see what happens\n",
    "keyword_args(big=\"foot\", loch=\"ness\")  # => {\"big\": \"foot\", \"loch\": \"ness\"}"
   ]
  },
  {
   "cell_type": "code",
   "execution_count": null,
   "id": "b240714c",
   "metadata": {},
   "outputs": [],
   "source": [
    "# You can do both at once, if you like\n",
    "def all_the_args(*args, **kwargs):\n",
    "    print(args)\n",
    "    print(kwargs)\n",
    "\n",
    "\n",
    "\"\"\"\n",
    "all_the_args(1, 2, a=3, b=4) prints:\n",
    "    (1, 2)\n",
    "    {\"a\": 3, \"b\": 4}\n",
    "\"\"\"\n",
    "\n",
    "# When calling functions, you can do the opposite of args/kwargs!\n",
    "# Use * to expand tuples and use ** to expand kwargs.\n",
    "args = (1, 2, 3, 4)\n",
    "kwargs = {\"a\": 3, \"b\": 4}\n",
    "all_the_args(*args)  # equivalent to all_the_args(1, 2, 3, 4)\n",
    "all_the_args(**kwargs)  # equivalent to all_the_args(a=3, b=4)\n",
    "all_the_args(*args, **kwargs)  # equivalent to all_the_args(1, 2, 3, 4, a=3, b=4)"
   ]
  },
  {
   "cell_type": "code",
   "execution_count": null,
   "id": "fc8589ef",
   "metadata": {},
   "outputs": [],
   "source": [
    "# Returning multiple values (with tuple assignments)\n",
    "def swap(x, y):\n",
    "    return y, x  # Return multiple values as a tuple without the parenthesis.\n",
    "    # (Note: parenthesis have been excluded but can be included)\n",
    "\n",
    "\n",
    "x = 1\n",
    "y = 2\n",
    "x, y = swap(x, y)  # => x = 2, y = 1\n",
    "# (x, y) = swap(x,y)  # Again parenthesis have been excluded but can be included."
   ]
  },
  {
   "cell_type": "code",
   "execution_count": null,
   "id": "3289cc2f",
   "metadata": {},
   "outputs": [],
   "source": [
    "# Function Scope\n",
    "x = 5\n",
    "\n",
    "\n",
    "def set_x(num):\n",
    "    # Local var x not the same as global variable x\n",
    "    x = num  # => 43\n",
    "    print(x)  # => 43\n",
    "\n",
    "\n",
    "def set_global_x(num):\n",
    "    global x\n",
    "    print(x)  # => 5\n",
    "    x = num  # global var x is now set to 6\n",
    "    print(x)  # => 6\n",
    "\n",
    "\n",
    "set_x(43)\n",
    "set_global_x(6)"
   ]
  },
  {
   "cell_type": "code",
   "execution_count": null,
   "id": "a60b0f42",
   "metadata": {},
   "outputs": [],
   "source": [
    "# Python has first class functions\n",
    "def create_adder(x):\n",
    "    def adder(y):\n",
    "        return x + y\n",
    "\n",
    "    return adder\n",
    "\n",
    "\n",
    "add_10 = create_adder(10)\n",
    "add_10(3)  # => 13"
   ]
  },
  {
   "cell_type": "code",
   "execution_count": null,
   "id": "b42cdb44",
   "metadata": {},
   "outputs": [],
   "source": [
    "# There are also anonymous functions\n",
    "(lambda x: x > 2)(3)  # => True\n",
    "(lambda x, y: x**2 + y**2)(2, 1)  # => 5"
   ]
  },
  {
   "cell_type": "code",
   "execution_count": null,
   "id": "22ec40b5",
   "metadata": {},
   "outputs": [],
   "source": [
    "# There are built-in higher order functions\n",
    "list(map(add_10, [1, 2, 3]))  # => [11, 12, 13]\n",
    "list(map(max, [1, 2, 3], [4, 2, 1]))  # => [4, 2, 3]\n",
    "\n",
    "list(filter(lambda x: x > 5, [3, 4, 5, 6, 7]))  # => [6, 7]"
   ]
  },
  {
   "cell_type": "code",
   "execution_count": null,
   "id": "cc86366e",
   "metadata": {},
   "outputs": [],
   "source": [
    "# We can use list comprehensions for nice maps and filters\n",
    "# List comprehension stores the output as a list which can itself be a nested list\n",
    "[add_10(i) for i in [1, 2, 3]]  # => [11, 12, 13]\n",
    "[x for x in [3, 4, 5, 6, 7] if x > 5]  # => [6, 7]"
   ]
  },
  {
   "cell_type": "code",
   "execution_count": null,
   "id": "8705ba5c",
   "metadata": {},
   "outputs": [],
   "source": [
    "# You can construct set and dict comprehensions as well.\n",
    "{x for x in \"abcddeef\" if x not in \"abc\"}  # => {'d', 'e', 'f'}\n",
    "{x: x**2 for x in range(5)}  # => {0: 0, 1: 1, 2: 4, 3: 9, 4: 16}"
   ]
  },
  {
   "cell_type": "markdown",
   "id": "1ff99d97",
   "metadata": {},
   "source": [
    "### Modules"
   ]
  },
  {
   "cell_type": "code",
   "execution_count": null,
   "id": "1177b1ad",
   "metadata": {},
   "outputs": [],
   "source": [
    "# You can import modules\n",
    "import math\n",
    "\n",
    "print(math.sqrt(16))  # => 4.0"
   ]
  },
  {
   "cell_type": "code",
   "execution_count": null,
   "id": "bd945cb2",
   "metadata": {},
   "outputs": [],
   "source": [
    "# You can get specific functions from a module\n",
    "from math import ceil, floor\n",
    "\n",
    "print(ceil(3.7))  # => 4.0\n",
    "print(floor(3.7))  # => 3.0"
   ]
  },
  {
   "cell_type": "code",
   "execution_count": null,
   "id": "1b7cf402",
   "metadata": {},
   "outputs": [],
   "source": [
    "# You can import all functions from a module.\n",
    "# Warning: this is not recommended\n",
    "from math import *"
   ]
  },
  {
   "cell_type": "code",
   "execution_count": null,
   "id": "54497dbb",
   "metadata": {},
   "outputs": [],
   "source": [
    "# You can shorten module names\n",
    "import math as m\n",
    "\n",
    "math.sqrt(16) == m.sqrt(16)  # => True"
   ]
  },
  {
   "cell_type": "code",
   "execution_count": null,
   "id": "c35f6a57",
   "metadata": {},
   "outputs": [],
   "source": [
    "# Python modules are just ordinary Python files. You\n",
    "# can write your own, and import them. The name of the\n",
    "# module is the same as the name of the file."
   ]
  },
  {
   "cell_type": "code",
   "execution_count": null,
   "id": "10685503",
   "metadata": {},
   "outputs": [],
   "source": [
    "# You can find out which functions and attributes\n",
    "# are defined in a module.\n",
    "import math\n",
    "\n",
    "dir(math)"
   ]
  },
  {
   "cell_type": "code",
   "execution_count": null,
   "id": "f17c5871",
   "metadata": {},
   "outputs": [],
   "source": [
    "# If you have a Python script named math.py in the same\n",
    "# folder as your current script, the file math.py will\n",
    "# be loaded instead of the built-in Python module.\n",
    "# This happens because the local folder has priority\n",
    "# over Python's built-in libraries."
   ]
  },
  {
   "cell_type": "markdown",
   "id": "33885651",
   "metadata": {},
   "source": [
    "## Step 3: Using `numpy`\n",
    "\n",
    "The python language has only basic operations. Most maths functions are in various maths libraries. In this module we will make use of `numpy`. \n",
    "\n",
    "The official numpy documentation gives good tutorials on how to get started. The information below is based on these:\n",
    "\n",
    "- [NumPy quickstart](https://numpy.org/doc/stable/user/quickstart.html)\n",
    "- [NumPy: the absolute basics for beginners](https://numpy.org/doc/stable/user/absolute_beginners.html)\n",
    "- [Numpy fundamentals](https://numpy.org/doc/stable/user/basics.html)\n",
    "\n",
    "You may wish to keep references for future reading as we go further into the course."
   ]
  },
  {
   "cell_type": "markdown",
   "id": "1b4a1413",
   "metadata": {},
   "source": [
    "It is conventional to import numpy as `np`."
   ]
  },
  {
   "cell_type": "code",
   "execution_count": null,
   "id": "8986aab8",
   "metadata": {},
   "outputs": [],
   "source": [
    "import numpy as np"
   ]
  },
  {
   "cell_type": "markdown",
   "id": "c1552daf",
   "metadata": {},
   "source": [
    "### The basics\n",
    "\n",
    "The fundamental object used in numpy is the homogeneous multidimensional array - we call two dimensional versions of this a matrix in our course. In NumPy these dimensions are called *axes*.\n",
    "\n",
    "For example, the array for the coordinates of a point in 3D space, `[1, 2, 1]`, has one axis. That axis has 3 elements in it, so we say it has length of 3.\n",
    "\n",
    "The next example below, the array has 2 axis. The first axis of length 2 and the second axis of length 3."
   ]
  },
  {
   "cell_type": "code",
   "execution_count": null,
   "id": "b0156d47",
   "metadata": {},
   "outputs": [],
   "source": [
    "[[1.0, 0.0, 0.0], [0.0, 1.0, 2.0]]"
   ]
  },
  {
   "cell_type": "markdown",
   "id": "4c4ba812",
   "metadata": {},
   "source": [
    "NumPy's array class is called `ndarray`. It is also known by the alias `array`.\n",
    "\n",
    "We use the following block to help us learn about important attributes of an `ndarray`."
   ]
  },
  {
   "cell_type": "code",
   "execution_count": null,
   "id": "14349c76",
   "metadata": {},
   "outputs": [],
   "source": [
    "help(np.ndarray.ndim)\n",
    "help(np.ndarray.shape)\n",
    "help(np.ndarray.size)\n",
    "help(np.ndarray.dtype)\n",
    "help(np.ndarray.itemsize)\n",
    "help(np.ndarray.data)"
   ]
  },
  {
   "cell_type": "markdown",
   "id": "ecb1e129",
   "metadata": {},
   "source": [
    "#### An example"
   ]
  },
  {
   "cell_type": "code",
   "execution_count": null,
   "id": "9deb4227",
   "metadata": {},
   "outputs": [],
   "source": [
    "a = np.array([[1.0, 0.0, 0.0], [0.0, 1.0, 2.0]])\n",
    "\n",
    "print(a.shape)\n",
    "print(a.ndim)\n",
    "print(a.dtype.name)\n",
    "print(a.itemsize)\n",
    "print(a.size)\n",
    "print(type(a))"
   ]
  },
  {
   "cell_type": "markdown",
   "id": "1c499f5a",
   "metadata": {},
   "source": [
    "### Array creation\n",
    "\n",
    "There are several ways to create arrays.\n",
    "\n",
    "The most common is to create an array from a regular python list using the array function. The type of resulting array is deduced from the type of the elements in the list:"
   ]
  },
  {
   "cell_type": "code",
   "execution_count": null,
   "id": "ca95391e",
   "metadata": {},
   "outputs": [],
   "source": [
    "a = np.array([2, 3, 4])\n",
    "print(a, a.dtype.name)\n",
    "\n",
    "b = np.array([2.0, 3.0, 4.0])\n",
    "print(b, b.dtype.name)"
   ]
  },
  {
   "cell_type": "markdown",
   "id": "6e85d133",
   "metadata": {},
   "source": [
    "You should be careful to ensure that we are using standard double precision floating point types in this module. (Note that python `float64` is *not* standard double precision floating point but `numpy`'s is).\n",
    "\n",
    "You can achieve this by using the `astype()` method:"
   ]
  },
  {
   "cell_type": "code",
   "execution_count": null,
   "id": "ecc36c2f",
   "metadata": {},
   "outputs": [],
   "source": [
    "a = a.astype(np.double)\n",
    "b = b.astype(np.double)\n",
    "\n",
    "print(a.dtype.name)\n",
    "print(b.dtype.name)"
   ]
  },
  {
   "cell_type": "markdown",
   "id": "e2809719",
   "metadata": {},
   "source": [
    "`array` transforms lists of lists into two-dimensional arrays, lists of lists of lists in three-dimensional arrays and so on:"
   ]
  },
  {
   "cell_type": "code",
   "execution_count": null,
   "id": "a8a4c179",
   "metadata": {},
   "outputs": [],
   "source": [
    "c = np.array([[1.5, 2, 3], [4, 5, 6]])\n",
    "c"
   ]
  },
  {
   "cell_type": "markdown",
   "id": "327965ee",
   "metadata": {},
   "source": [
    "There are also three special functions to create special arrays. The function `zeros` creates an array full of zeros, `ones` creates an array full of ones and the function `empty` creates an array whose initial content is random and depends on the state of memory. The argument passed to each is the `shape` of the array - that is the dimensions along each axis."
   ]
  },
  {
   "cell_type": "code",
   "execution_count": null,
   "id": "070167ab",
   "metadata": {},
   "outputs": [],
   "source": [
    "np.zeros((3, 4))"
   ]
  },
  {
   "cell_type": "code",
   "execution_count": null,
   "id": "20c41a3a",
   "metadata": {},
   "outputs": [],
   "source": [
    "np.ones((2, 5))"
   ]
  },
  {
   "cell_type": "code",
   "execution_count": null,
   "id": "df497eb9",
   "metadata": {},
   "outputs": [],
   "source": [
    "np.empty((2, 3))"
   ]
  },
  {
   "cell_type": "markdown",
   "id": "83104efd",
   "metadata": {},
   "source": [
    "You can also print arrays directly using the `print` function:"
   ]
  },
  {
   "cell_type": "code",
   "execution_count": null,
   "id": "2fe7aae7",
   "metadata": {},
   "outputs": [],
   "source": [
    "print(a)\n",
    "print(b)"
   ]
  },
  {
   "cell_type": "markdown",
   "id": "89d5d303",
   "metadata": {},
   "source": [
    "### Basic operators\n",
    "\n",
    "Arithmetic operators on arrays apply *elementwise*. A new array is created an filled with the result."
   ]
  },
  {
   "cell_type": "code",
   "execution_count": null,
   "id": "25c2708f",
   "metadata": {},
   "outputs": [],
   "source": [
    "a = np.array([20, 30, 40, 50])\n",
    "b = np.array([0, 1, 2, 3])\n",
    "\n",
    "print(a)\n",
    "print(b)\n",
    "print(a + b)\n",
    "print(a - b)\n",
    "print(5 * b)\n",
    "print(b**2)\n",
    "print(a < 25)"
   ]
  },
  {
   "cell_type": "markdown",
   "id": "d279b134",
   "metadata": {},
   "source": [
    "Unlike many matrix languages, the product operator `*` operates elementwise in numpy arrays. The matrix product can be performed using the `@` operator."
   ]
  },
  {
   "cell_type": "code",
   "execution_count": null,
   "id": "f55bb74a",
   "metadata": {},
   "outputs": [],
   "source": [
    "A = np.array([[1, 2, 3], [4, 5, 6], [7, 8, 9]], dtype=np.double)\n",
    "B = np.array([[1, 1, 1], [2, 2, 2], [3, 3, 3]], dtype=np.double)\n",
    "\n",
    "print(A * B)  # elementwise product\n",
    "print(A @ B)  # matrix product"
   ]
  },
  {
   "cell_type": "markdown",
   "id": "147bdb5f",
   "metadata": {},
   "source": [
    "### Indexing, slicing and iterating"
   ]
  },
  {
   "cell_type": "markdown",
   "id": "68e47a04",
   "metadata": {},
   "source": [
    "One dimensional arrays can be indexed, sliced and iterated over, much like lists:"
   ]
  },
  {
   "cell_type": "code",
   "execution_count": null,
   "id": "588dab7b",
   "metadata": {},
   "outputs": [],
   "source": [
    "a = np.array([0, 5, 2, 3, 4])\n",
    "\n",
    "print(a[2])\n",
    "print(a[2:4])\n",
    "print(a[:6:2])\n",
    "\n",
    "for i in a:\n",
    "    print(i ** (1 / 3))"
   ]
  },
  {
   "cell_type": "markdown",
   "id": "600791a5",
   "metadata": {},
   "source": [
    "Multidimensional arrays can have one index per axis. These indices are given in a tuple separated by commas"
   ]
  },
  {
   "cell_type": "code",
   "execution_count": null,
   "id": "336412d1",
   "metadata": {},
   "outputs": [],
   "source": [
    "A = np.array([[1, 2, 3], [4, 5, 6], [7, 8, 9]])\n",
    "\n",
    "print(A[1, 2])\n",
    "print(A[0:3, 2])\n",
    "print(A[:, 2])\n",
    "\n",
    "# iteration is over the first axis\n",
    "for row in A:\n",
    "    print(row)"
   ]
  },
  {
   "cell_type": "markdown",
   "id": "9d4c62fe",
   "metadata": {},
   "source": [
    "### Copies and views\n",
    "\n",
    "When operating and manipulating arrays, their data is sometimes copied into a new array and sometimes not. This is often a source of confusion for beginners. There are three cases."
   ]
  },
  {
   "cell_type": "markdown",
   "id": "0d9e2ca0",
   "metadata": {},
   "source": [
    "#### No copy at all\n",
    "\n",
    "Simply assignment makes no copy of objects or their data"
   ]
  },
  {
   "cell_type": "code",
   "execution_count": null,
   "id": "0a8a37d0",
   "metadata": {},
   "outputs": [],
   "source": [
    "a = np.array([1, 2, 3])\n",
    "b = a  # no new object created\n",
    "b is a"
   ]
  },
  {
   "cell_type": "markdown",
   "id": "78b57eb9",
   "metadata": {},
   "source": [
    "Python passes mutable objects as references, so function calls make no copy:"
   ]
  },
  {
   "cell_type": "code",
   "execution_count": null,
   "id": "5d5270e6",
   "metadata": {},
   "outputs": [],
   "source": [
    "def f(x):\n",
    "    print(id(x))\n",
    "\n",
    "\n",
    "print(id(a))\n",
    "f(a)"
   ]
  },
  {
   "cell_type": "markdown",
   "id": "01b9d202",
   "metadata": {},
   "source": [
    "#### View or shallow copy\n",
    "\n",
    "Different array objects can share the same data. The `view` method creates a new array object that looks at the same data."
   ]
  },
  {
   "cell_type": "code",
   "execution_count": null,
   "id": "c968a1a9",
   "metadata": {},
   "outputs": [],
   "source": [
    "c = a.view()\n",
    "c is a"
   ]
  },
  {
   "cell_type": "code",
   "execution_count": null,
   "id": "6db5c110",
   "metadata": {},
   "outputs": [],
   "source": [
    "c.base is a"
   ]
  },
  {
   "cell_type": "code",
   "execution_count": null,
   "id": "d26d3843",
   "metadata": {},
   "outputs": [],
   "source": [
    "c.flags.owndata"
   ]
  },
  {
   "cell_type": "code",
   "execution_count": null,
   "id": "78be9cf7",
   "metadata": {},
   "outputs": [],
   "source": [
    "c[1] = -5  # changes a data too\n",
    "print(a, c)"
   ]
  },
  {
   "cell_type": "markdown",
   "id": "ec44da18",
   "metadata": {},
   "source": [
    "#### Deep copy\n",
    "\n",
    "The `copy` method makes a completely new copy of the array and its data"
   ]
  },
  {
   "cell_type": "code",
   "execution_count": null,
   "id": "c41c2793",
   "metadata": {},
   "outputs": [],
   "source": [
    "d = a.copy()\n",
    "d is a"
   ]
  },
  {
   "cell_type": "code",
   "execution_count": null,
   "id": "2152e043",
   "metadata": {},
   "outputs": [],
   "source": [
    "d.base is a"
   ]
  },
  {
   "cell_type": "code",
   "execution_count": null,
   "id": "e64fbfbb",
   "metadata": {},
   "outputs": [],
   "source": [
    "d[1] = 10  # doesn't change a data\n",
    "print(a, c, d)"
   ]
  }
 ],
 "metadata": {
  "kernelspec": {
   "display_name": "Python 3 (ipykernel)",
   "language": "python",
   "name": "python3"
  },
  "language_info": {
   "codemirror_mode": {
    "name": "ipython",
    "version": 3
   },
   "file_extension": ".py",
   "mimetype": "text/x-python",
   "name": "python",
   "nbconvert_exporter": "python",
   "pygments_lexer": "ipython3",
   "version": "3.8.16"
  }
 },
 "nbformat": 4,
 "nbformat_minor": 5
}
